{
 "cells": [
  {
   "cell_type": "code",
   "execution_count": 2,
   "id": "84ba0f89",
   "metadata": {
    "execution": {
     "iopub.execute_input": "2023-07-10T15:05:07.772038Z",
     "iopub.status.busy": "2023-07-10T15:05:07.765106Z",
     "iopub.status.idle": "2023-07-10T15:05:07.792837Z",
     "shell.execute_reply": "2023-07-10T15:05:07.792061Z"
    }
   },
   "outputs": [
    {
     "name": "stdout",
     "output_type": "stream",
     "text": [
      "2023-07-10 16:38:09.387458\n"
     ]
    }
   ],
   "source": [
    "import datetime\n",
    "print(datetime.datetime.now())"
   ]
  },
  {
   "cell_type": "code",
   "execution_count": null,
   "id": "5ffe7ae9",
   "metadata": {},
   "outputs": [],
   "source": []
  }
 ],
 "metadata": {
  "kernelspec": {
   "display_name": "Python 3",
   "language": "python",
   "name": "python3"
  },
  "language_info": {
   "codemirror_mode": {
    "name": "ipython",
    "version": 3
   },
   "file_extension": ".py",
   "mimetype": "text/x-python",
   "name": "python",
   "nbconvert_exporter": "python",
   "pygments_lexer": "ipython3",
   "version": "3.6.15"
  }
 },
 "nbformat": 4,
 "nbformat_minor": 5
}
